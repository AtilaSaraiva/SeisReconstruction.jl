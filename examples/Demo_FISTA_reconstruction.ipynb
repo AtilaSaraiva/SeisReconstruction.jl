{
 "cells": [
  {
   "cell_type": "code",
   "execution_count": 54,
   "metadata": {},
   "outputs": [],
   "source": [
    "using SeisPlot, SeisReconstruction, SeisProcessing\n",
    "using  PyPlot, LinearAlgebra, FFTW, DSP, Statistics, LinearAlgebra"
   ]
  },
  {
   "cell_type": "markdown",
   "metadata": {},
   "source": []
  },
  {
   "cell_type": "code",
   "execution_count": 55,
   "metadata": {},
   "outputs": [],
   "source": [
    "dt=0.002; # dt \n",
    "nt=512; #number of simples in time dimension\n",
    "nx1=64; # number of samples in x1 dimension\n",
    "nx2=64; # number of samples in x2 dimension\n",
    "dx1=10.0; \n",
    "dx2=10.0;\n",
    "f0= 25.0; # dominant frequency for the wavelet\n",
    "tau=[0.256, 0.512, 0.768]; # t0 for the events\n",
    "amp=[1.0, 0.5, -1.0]; # amplitude \n",
    "p2=[0.3,0.0, -0.45] ; # ray parameter dimension 1\n",
    "p1=[0.15,0.0, -0.15]; # ray paramteter dimension2 \n"
   ]
  },
  {
   "cell_type": "code",
   "execution_count": 56,
   "metadata": {},
   "outputs": [],
   "source": [
    "\n",
    "data=SeisParabEvents( tau=tau,amp=amp, p2=p2,p1=p1, dt=dt, nt=nt, dx1=dx1, nx1=nx1, dx2=dx2, nx2=nx2, f0=f0);\n",
    "\n",
    "nt,nr,ns=size(data);\n",
    "\n",
    "d_obs =(10^3)*copy(data); # scale\n",
    "\n"
   ]
  },
  {
   "cell_type": "code",
   "execution_count": 57,
   "metadata": {},
   "outputs": [],
   "source": [
    "d_obsn= SeisAddNoise(d_obs, 1.0, db=false, L=9);\n"
   ]
  },
  {
   "cell_type": "code",
   "execution_count": 58,
   "metadata": {},
   "outputs": [],
   "source": [
    "d_obsn=SeisDecimate(d_obsn;mode=\"random\",perc=50);"
   ]
  },
  {
   "cell_type": "code",
   "execution_count": 62,
   "metadata": {},
   "outputs": [
    {
     "ename": "UndefVarError",
     "evalue": "UndefVarError: `CalculateSampling` not defined",
     "output_type": "error",
     "traceback": [
      "UndefVarError: `CalculateSampling` not defined\n",
      "\n",
      "Stacktrace:\n",
      " [1] top-level scope\n",
      "   @ ~/Desktop/PhD/PhD_codes/PhD_codes/SeisReconstruction.jl/examples/Demo_FISTA_reconstruction.ipynb:1"
     ]
    }
   ],
   "source": [
    "S = CalculateSampling(d_obsn)\n",
    "\n",
    "ρ=0.5;\n",
    "μ= 5.0;\n",
    "tol=1.e-4;\n",
    "x0 = randn(Float64,size(d_obs));\n",
    "operators=[ WeightingOp, FFTOp];\n",
    "parameters= [Dict(:w =>S), Dict( :normalize=>true)];\n",
    "m, J= ADMM(x0,d_obs,operators,parameters, ρ= ρ , μ=μ, Ne=100, Ni=100,tolin=1e-4, tolout=1e-4 );"
   ]
  },
  {
   "cell_type": "code",
   "execution_count": 60,
   "metadata": {},
   "outputs": [
    {
     "ename": "Base.Meta.ParseError",
     "evalue": "ParseError:\n# Error @ /home/joaquin17/Desktop/PhD/PhD_codes/PhD_codes/SeisReconstruction.jl/examples/Demo_FISTA_reconstruction.ipynb:1:1\n?ADDM\n╙ ── not a unary operator",
     "output_type": "error",
     "traceback": [
      "ParseError:\n",
      "# Error @ /home/joaquin17/Desktop/PhD/PhD_codes/PhD_codes/SeisReconstruction.jl/examples/Demo_FISTA_reconstruction.ipynb:1:1\n",
      "?ADDM\n",
      "╙ ── not a unary operator\n",
      "\n",
      "Stacktrace:\n",
      " [1] top-level scope\n",
      "   @ ~/Desktop/PhD/PhD_codes/PhD_codes/SeisReconstruction.jl/examples/Demo_FISTA_reconstruction.ipynb:1"
     ]
    }
   ],
   "source": [
    "?ADDM"
   ]
  },
  {
   "cell_type": "code",
   "execution_count": 38,
   "metadata": {},
   "outputs": [],
   "source": []
  },
  {
   "cell_type": "code",
   "execution_count": 27,
   "metadata": {},
   "outputs": [],
   "source": [
    "using Pkg"
   ]
  },
  {
   "cell_type": "code",
   "execution_count": 39,
   "metadata": {},
   "outputs": [
    {
     "name": "stdout",
     "output_type": "stream",
     "text": [
      "\u001b[36m\u001b[1mProject\u001b[22m\u001b[39m SeisReconstruction v0.1.2\n",
      "\u001b[32m\u001b[1mStatus\u001b[22m\u001b[39m `~/Desktop/PhD/PhD_codes/PhD_codes/SeisReconstruction.jl/Project.toml`\n",
      "  \u001b[90m[717857b8] \u001b[39mDSP v0.7.9\n",
      "\u001b[33m⌅\u001b[39m \u001b[90m[e30172f5] \u001b[39mDocumenter v0.27.25\n",
      "  \u001b[90m[35a29f4d] \u001b[39mDocumenterTools v0.1.19\n",
      "  \u001b[90m[7a1cc6ca] \u001b[39mFFTW v1.8.0\n",
      "\u001b[33m⌅\u001b[39m \u001b[90m[a98d9a8b] \u001b[39mInterpolations v0.14.7\n",
      "  \u001b[90m[37e2e46d] \u001b[39mLinearAlgebra\n",
      "  \u001b[90m[de0858da] \u001b[39mPrintf\n",
      "  \u001b[90m[10745b16] \u001b[39mStatistics v1.10.0\n",
      "\u001b[36m\u001b[1mInfo\u001b[22m\u001b[39m Packages marked with \u001b[33m⌅\u001b[39m have new versions available but compatibility constraints restrict them from upgrading. To see why use `status --outdated`\n"
     ]
    }
   ],
   "source": [
    "Pkg.status()"
   ]
  },
  {
   "cell_type": "code",
   "execution_count": null,
   "metadata": {},
   "outputs": [],
   "source": []
  }
 ],
 "metadata": {
  "kernelspec": {
   "display_name": "Julia 1.10.0",
   "language": "julia",
   "name": "julia-1.10"
  },
  "language_info": {
   "file_extension": ".jl",
   "mimetype": "application/julia",
   "name": "julia",
   "version": "1.10.0"
  }
 },
 "nbformat": 4,
 "nbformat_minor": 2
}
